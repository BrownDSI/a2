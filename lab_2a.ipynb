{
 "cells": [
  {
   "cell_type": "markdown",
   "metadata": {},
   "source": [
    "# Lab 2a: Data Collection (cont.)\n",
    "\n",
    "### Introduction:\n",
    "In this lab, you'll be using Python and the Spotify API to find the 10 most popular tracks by your favorite artist on Spotify and export your results to a CSV file on your computer.\n",
    "\n",
    "The steps you will take to do this are as follows:\n",
    "1. Getting an access token using your Spotify credentials.\n",
    "2. Collecting the data from the Spotify API using Python's `requests` library.\n",
    "3. Transforming the collected data into tabular form\n",
    "4. Saving the data to a CSV file\n",
    "\n",
    "Run the following cell to get started."
   ]
  },
  {
   "cell_type": "code",
   "execution_count": null,
   "metadata": {
    "collapsed": true
   },
   "outputs": [],
   "source": [
    "import requests\n",
    "import pandas as pd\n",
    "\n",
    "from music1030.collection.spotify import SpotifyCrawler"
   ]
  },
  {
   "cell_type": "markdown",
   "metadata": {},
   "source": [
    "**Task 0**: Create a project at https://developer.spotify.com/my-applications/ to get your client ID and client secret and put them into the corresponding variables."
   ]
  },
  {
   "cell_type": "code",
   "execution_count": null,
   "metadata": {
    "collapsed": true
   },
   "outputs": [],
   "source": [
    "client_ID = <YOUR_SPOTIFY_CLIENT_ID>\n",
    "client_secret = <YOUR_SPOTIFY_CLIENT_SECRET>\n",
    "access_token = SpotifyCrawler(client_ID, client_secret).access_token\n",
    "print(access_token)"
   ]
  },
  {
   "cell_type": "markdown",
   "metadata": {},
   "source": [
    "We want to find your favorite artist's top 10 songs, but [Spotify API's artist endpoints](https://developer.spotify.com/web-api/console/artists/) requires us to know the artist ID of our artist. Therefore, we'll need to find each artist's Spotify IDs before we can do this query. Let's try this now via the [Spotify API's search endpoint](https://developer.spotify.com/web-api/console/get-search-item/).\n",
    "\n",
    "**Task 1 **: Use the form Spotify provides to search for your favorite artist by artist name. Limit your search to five results. Finally, in the cell below, copy and paste the cURL Command that is outputted for your query."
   ]
  },
  {
   "cell_type": "raw",
   "metadata": {},
   "source": [
    "YOUR CURL COMMAND HERE:\n"
   ]
  },
  {
   "cell_type": "markdown",
   "metadata": {},
   "source": [
    "You should get something that looks similar to this. If your request does not work, ask a TA for help.\n",
    "   \n",
    "<img src=\"https://i.imgur.com/Pgykpyg.png\" />"
   ]
  },
  {
   "cell_type": "markdown",
   "metadata": {},
   "source": [
    "The above cURL Command is a bit hard to read, so let's break it down! cURL is a command-line tool (i.e., you run it from the terminal) you can use to make HTTP requests. \n",
    "\n",
    "The command above is sending a GET request to the **https://api.spotify.com/v1/search** endpoint. \n",
    "\n",
    "Within the Spotify URL, the parameter **q** corresponds to the keyword we're searching (Star-Spangled Banner), ** type** corresponds to the type of query (track), and **limit** corresponds to the maximum number of results we want to receive (1). \n",
    "\n",
    "Items following `-H` are HTTP headers. Headers are operating parameters sent along with your HTTP request. The **Accept** header specifies the Content-Types we expect from the response. In this case, we want data to be returned in the form of JSON, a common syntax for storing nested content. The **Authorization** header specifies the authentication credentials via the access token.\n",
    "\n",
    "To see cURL in action, copy and paste the cURL command you wrote in Task 1 to your terminal and see what happens. You should get a JSON string that looks like this:\n",
    "<img src=\"https://i.imgur.com/JzDEa4u.png\">\n",
    "\n",
    "Now that you've learned a bit more about making HTTP requests through cURL, we're going to work on making HTTP requests through Python."
   ]
  },
  {
   "cell_type": "markdown",
   "metadata": {},
   "source": [
    "**Task 2 **: Using the Python **requests** library, transform the cURL command you created to search for your artist into an equivalent Python command and store the HTTP response in a variable named **response**. \n",
    "\n",
    "Please refer to [HTTP python library: requests](http://docs.python-requests.org/en/master/user/quickstart/) to learn how to make HTTP reqeusts and get response in json format."
   ]
  },
  {
   "cell_type": "code",
   "execution_count": null,
   "metadata": {
    "collapsed": true
   },
   "outputs": [],
   "source": [
    "# HERE IS AN EXAMPLE, MODIFY IT TO MATCH YOUR FAVORITE ARTIST\n",
    "query = 'Radiohead' #your search string (e.g. Star-Spangled Banner)\n",
    "item_type = 'artist' #the type of item you are searching for (e.g. track)\n",
    "limit = '3' # maximum number of search results you want\n",
    "search_endpoint_url = 'https://api.spotify.com/v1/search'\n",
    "params = {\n",
    "            'q': query,\n",
    "            'type': item_type,\n",
    "            'limit': limit \n",
    "         }\n",
    "headers = {\n",
    "            'Authorization': 'Bearer {}'.format(access_token) \n",
    "          }\n",
    "\n",
    "response = requests.get(search_endpoint_url, params=params, headers=headers)\n",
    "print(response.text)"
   ]
  },
  {
   "cell_type": "markdown",
   "metadata": {},
   "source": [
    "You should be seeing the same five artists that were returned when you ran the cURL command on your terminal. Click on the __external_urls__ link to find the right artist from your search results. Your artist will most likely be the first artist in the list. \n",
    "\n",
    "JSON is easily converted to a Python dictionary, which allows us to pull out individual fields. Instead of storing the data in a string, use `response.json()` to store the data in a Python variable called `data`."
   ]
  },
  {
   "cell_type": "code",
   "execution_count": null,
   "metadata": {
    "collapsed": true
   },
   "outputs": [],
   "source": [
    "data = response.json()\n",
    "print(data)"
   ]
  },
  {
   "cell_type": "markdown",
   "metadata": {},
   "source": [
    "**Task 3**: Use the dictionary to access the artist ID and the artist name. Store them in variables called `artist_id` and `artist_name`."
   ]
  },
  {
   "cell_type": "code",
   "execution_count": null,
   "metadata": {
    "collapsed": true
   },
   "outputs": [],
   "source": [
    "# YOUR CODE HERE\n",
    "print(\"artist_name: \", artist_name, \"\\nartist_id: \", artist_id)"
   ]
  },
  {
   "cell_type": "markdown",
   "metadata": {},
   "source": [
    "Now that you've gotten your favorite artist's ID, we can use it to make more interesting API requests."
   ]
  },
  {
   "cell_type": "markdown",
   "metadata": {},
   "source": [
    "**Task 4 **: Using the Python **requests** library, we'll now be writing a query to get your favorite artist's Top 10 Tracks. Make the API request, then store the track names in a new list variable named `track_list` and their corresponding albums' names in a new list variable named `album_list`. \n",
    "\n",
    "Note: all the endpoint are described [here](https://developer.spotify.com/web-api/console/).\n",
    "\n",
    "The format you will use is very similar to the one above."
   ]
  },
  {
   "cell_type": "code",
   "execution_count": null,
   "metadata": {
    "scrolled": false
   },
   "outputs": [],
   "source": [
    "track_list = ...\n",
    "endpoint_url = 'https://api.spotify.com/v1/' + ...\n",
    "country = 'US'\n",
    "params2 = {'country': country }\n",
    "\n",
    "# YOUR CODE HERE\n",
    "print(track_list)\n",
    "print(album_list)"
   ]
  },
  {
   "cell_type": "markdown",
   "metadata": {},
   "source": [
    "Great! You've found your favorite artist's top tracks in JSON. Although using JSON is a great way of storing and exchanging data, it is difficult to actually read and understand it. A better format for displaying this data is CSV, which displays information in tabular form (like a spreadsheet)."
   ]
  },
  {
   "cell_type": "markdown",
   "metadata": {},
   "source": [
    "** Task 5 **: Using **pandas**, create a dataframe with three columns: `Artist`, `Track`, and `Album`. Finally, save your data to a CSV file called `Artist_Tracks.csv`."
   ]
  },
  {
   "cell_type": "code",
   "execution_count": null,
   "metadata": {
    "collapsed": true
   },
   "outputs": [],
   "source": [
    "# YOUR CODE HERE\n",
    "print(pd.read_csv('data/lab1a_data.csv'))"
   ]
  },
  {
   "cell_type": "markdown",
   "metadata": {},
   "source": [
    "__Task 6:__ As a sanity check, correct the code below so it returns the the number of times your artist name appears using regular expressions. The artist name should appear at least 10 times."
   ]
  },
  {
   "cell_type": "code",
   "execution_count": null,
   "metadata": {
    "collapsed": true
   },
   "outputs": [],
   "source": [
    "import re\n",
    "\n",
    "pattern = re.compile(<YOUR_PATTERN_HERE>)\n",
    "\n",
    "for index, name in df[<YOUR_ARTIST_COLUMN>].iteritems():\n",
    "    match =  pattern.match(name)\n",
    "    if match:\n",
    "        print(matches.group())"
   ]
  },
  {
   "cell_type": "markdown",
   "metadata": {},
   "source": [
    "In general to use regular expressions in Python, you would do the following:\n",
    "\n",
    "1. [Compile](https://docs.python.org/3/library/re.html#re.compile) your pattern\n",
    "    \n",
    "    - `pattern = re.compile(...)`\n",
    "    \n",
    "2. [Match](https://docs.python.org/3/library/re.html#re.regex.match) your string to the pattern\n",
    "    \n",
    "    - `match = p.match(...)`\n",
    "    \n",
    "3. Extract your [groups](https://docs.python.org/3/library/re.html#re.match.group)\n",
    "    \n",
    "    - `m.group(0)`"
   ]
  },
  {
   "cell_type": "markdown",
   "metadata": {},
   "source": [
    "## Summary\n",
    "\n",
    "### API requests in Python:\n",
    "\n",
    "1. r = requests.get()\n",
    "2. content = r.json()\n",
    "3. content[FIELD_1] [FIELD_2] ...\n",
    "\n",
    "### Regular expressions in Python\n",
    "\n",
    "1. p = re.compile()\n",
    "2. m = p.match()\n",
    "3. m.group()"
   ]
  }
 ],
 "metadata": {
  "kernelspec": {
   "display_name": "Python 3",
   "language": "python",
   "name": "python3"
  },
  "language_info": {
   "codemirror_mode": {
    "name": "ipython",
    "version": 3
   },
   "file_extension": ".py",
   "mimetype": "text/x-python",
   "name": "python",
   "nbconvert_exporter": "python",
   "pygments_lexer": "ipython3",
   "version": "3.6.1"
  }
 },
 "nbformat": 4,
 "nbformat_minor": 2
}
